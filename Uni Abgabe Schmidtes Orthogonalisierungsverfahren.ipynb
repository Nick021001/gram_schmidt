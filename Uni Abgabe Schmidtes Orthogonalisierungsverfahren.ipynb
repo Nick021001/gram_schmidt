{
 "cells": [
  {
   "cell_type": "code",
   "execution_count": 254,
   "metadata": {},
   "outputs": [],
   "source": [
    "import numpy as np\n",
    "import matplotlib.pyplot as plt\n",
    "\n",
    "def gramsche_determinante(*args):\n",
    "    set_mit_grad_der_Dimensionen = set()\n",
    "    matrix = []\n",
    "    for arg in args:\n",
    "        set_mit_grad_der_Dimensionen.add(len(arg))\n",
    "        \n",
    "    if len(set_mit_grad_der_Dimensionen) == 1: #hier habe die mathematische eigenschaft von einer Menge genutz, das wiederholungen keine Rolle spielen\n",
    "        vektor = args\n",
    "        for i in vektor:\n",
    "            for j in vektor:\n",
    "                matrix.append(np.dot(i,j))\n",
    "                \n",
    "    else:\n",
    "        return False\n",
    "        \n",
    "    reshaped_matrix = np.array(matrix).reshape(len(args), len(args))\n",
    "    \n",
    "    det = np.linalg.det(reshaped_matrix)\n",
    "                \n",
    "    return det\n",
    "    "
   ]
  },
  {
   "cell_type": "code",
   "execution_count": 255,
   "metadata": {},
   "outputs": [
    {
     "data": {
      "text/plain": [
       "1.0000000000000004"
      ]
     },
     "execution_count": 255,
     "metadata": {},
     "output_type": "execute_result"
    }
   ],
   "source": [
    "gramsche_determinante([1,0,1,1], [0,0,-1,1], [0,0,0,1])"
   ]
  },
  {
   "cell_type": "code",
   "execution_count": 443,
   "metadata": {},
   "outputs": [],
   "source": [
    "def normieren(vektor):\n",
    "    return np.array(vektor)/np.sqrt(np.dot(vektor, vektor))\n",
    "    \n",
    "class gram_schmidt:\n",
    "    def __init__(self, vektor1, vektor2, vektor3):\n",
    "        self.u1 = np.array(vektor1)\n",
    "        self.u2 = np.array(vektor2)\n",
    "        self.u3 = np.array(vektor3)\n",
    "        \n",
    "        \n",
    "    def orthonomieren(self):\n",
    "        if gramsche_determinante(self.u1, self.u2, self.u3) > 0:\n",
    "            self.w1 = self.u1\n",
    "            self.w2 = self.u2 - np.dot(self.u2, self.w1)/np.dot(self.w1, self.w1)*self.w1\n",
    "            self.w3 = self.u3 - np.dot(self.u3, self.w1)/np.dot(self.w1, self.w1)*self.w1 - np.dot(self.u3, self.w2)/np.dot(self.w2, self.w2)*self.w2\n",
    "            liste_mit_orthonomierten_vektoren = [normieren(self.w1), normieren(self.w2), normieren(self.w3)]\n",
    "            fig = plt.figure()\n",
    "            ax = fig.add_subplot(111, projection='3d')\n",
    "            \n",
    "            ax.scatter(self.w1, self.w2, self.w3)\n",
    "            ax.scatter(liste_mit_orthonomierten_vektoren[0], liste_mit_orthonomierten_vektoren[1], liste_mit_orthonomierten_vektoren[2])\n",
    "            \n",
    "        else:\n",
    "            print('Die Gewählten Vektoren sind nicht linear Unabhänngig')\n",
    "        \n",
    "        return liste_mit_orthonomierten_vektoren\n",
    "    \n",
    "    def mehr_als_drei_vekotoren(self, **kwargs):\n",
    "        vektors = []\n",
    "        for key, ele in kwargs.items():\n",
    "            self.key = np.array(ele)\n",
    "            vektors.append(self.key)\n",
    "        \n",
    "        results = 0\n",
    "        for i in range(1, len(vektors)):\n",
    "            for j in vektors[0:i]:\n",
    "                results += np.dot(vektors[i], j)/np.dot(j, j)*j\n",
    "                results = vektors[i] - results\n",
    "                vektors[i] = results\n",
    "                results = 0\n",
    "        \n",
    "        return vektors\n",
    "            \n",
    "        \n",
    "    \n",
    "        \n",
    "            \n",
    "# muss nochmal komplett überarbeitet werden, formel klar definieren\n",
    "#problem bei der Überlegung er macht die schritte einmal zu viel"
   ]
  },
  {
   "cell_type": "code",
   "execution_count": 444,
   "metadata": {},
   "outputs": [],
   "source": [
    "myclass = gram_schmidt([1,0,1,1], [0,0,-1,1], [0,0,0,1])"
   ]
  },
  {
   "cell_type": "code",
   "execution_count": 445,
   "metadata": {},
   "outputs": [
    {
     "data": {
      "text/plain": [
       "[array([0.57735027, 0.        , 0.57735027, 0.57735027]),\n",
       " array([ 0.        ,  0.        , -0.70710678,  0.70710678]),\n",
       " array([-0.81649658,  0.        ,  0.40824829,  0.40824829])]"
      ]
     },
     "execution_count": 445,
     "metadata": {},
     "output_type": "execute_result"
    },
    {
     "data": {
      "image/png": "[encoded data removed]",
      "text/plain": [
       "<Figure size 432x288 with 1 Axes>"
      ]
     },
     "metadata": {
      "needs_background": "light"
     },
     "output_type": "display_data"
    }
   ],
   "source": [
    "myclass.orthonomieren()"
   ]
  },
  {
   "cell_type": "code",
   "execution_count": 446,
   "metadata": {},
   "outputs": [],
   "source": [
    "vektoren = {'w':[1,0,1,1], 'w1':[0,0,-1,1], 'w2':[0,0,0,1]}"
   ]
  },
  {
   "cell_type": "code",
   "execution_count": 447,
   "metadata": {},
   "outputs": [
    {
     "name": "stdout",
     "output_type": "stream",
     "text": [
      "[0.57735027 0.         0.57735027 0.57735027]\n",
      "[ 0.          0.         -0.70710678  0.70710678]\n",
      "[-0.81649658  0.          0.40824829  0.40824829]\n"
     ]
    }
   ],
   "source": [
    "a = myclass.mehr_als_drei_vekotoren(**vektoren)\n",
    "\n",
    "for i in a:\n",
    "    print(normieren(i))"
   ]
  },
  {
   "cell_type": "code",
   "execution_count": null,
   "metadata": {},
   "outputs": [],
   "source": []
  }
 ],
 "metadata": {
  "kernelspec": {
   "display_name": "Python 3",
   "language": "python",
   "name": "python3"
  },
  "language_info": {
   "codemirror_mode": {
    "name": "ipython",
    "version": 3
   },
   "file_extension": ".py",
   "mimetype": "text/x-python",
   "name": "python",
   "nbconvert_exporter": "python",
   "pygments_lexer": "ipython3",
   "version": "3.8.5"
  }
 },
 "nbformat": 4,
 "nbformat_minor": 4
}
